{
 "cells": [
  {
   "cell_type": "markdown",
   "metadata": {},
   "source": [
    "# Web Scraping Project"
   ]
  },
  {
   "cell_type": "markdown",
   "metadata": {},
   "source": [
    "### Importing Libraries"
   ]
  },
  {
   "cell_type": "code",
   "execution_count": 35,
   "metadata": {},
   "outputs": [],
   "source": [
    "from bs4 import BeautifulSoup\n",
    "import pandas\n",
    "import requests\n",
    "import smtplib\n",
    "import time\n",
    "import datetime"
   ]
  },
  {
   "cell_type": "markdown",
   "metadata": {},
   "source": [
    "### Scraping Data from website"
   ]
  },
  {
   "cell_type": "code",
   "execution_count": 44,
   "metadata": {},
   "outputs": [],
   "source": [
    "# URL to a website which displays daily gas prices in different provinces in Canada\n",
    "\n",
    "URL = \"https://www.caa.ca/gas-prices/\"\n",
    "\n",
    "# headers can be obtained from https://httpbin.org/get\n",
    "\n",
    "headers = {\n",
    "    \"Accept\": \"text/html,application/xhtml+xml,application/xml;q=0.9,image/avif,image/webp,image/apng,*/*;q=0.8,application/signed-exchange;v=b3;q=0.9\", \n",
    "    \"Accept-Encoding\": \"gzip, deflate, br\", \n",
    "    \"Accept-Language\": \"en-GB,en-US;q=0.9,en;q=0.8,ta;q=0.7\", \n",
    "    \"Host\": \"httpbin.org\", \n",
    "    \"Referer\": \"https://www.youtube.com/\", \n",
    "    \"Sec-Ch-Ua\": \"\\\" Not A;Brand\\\";v=\\\"99\\\", \\\"Chromium\\\";v=\\\"100\\\", \\\"Google Chrome\\\";v=\\\"100\\\"\", \n",
    "    \"Sec-Ch-Ua-Mobile\": \"?0\", \n",
    "    \"Sec-Ch-Ua-Platform\": \"\\\"Windows\\\"\", \n",
    "    \"Sec-Fetch-Dest\": \"document\", \n",
    "    \"Sec-Fetch-Mode\": \"navigate\", \n",
    "    \"Sec-Fetch-Site\": \"cross-site\", \n",
    "    \"Sec-Fetch-User\": \"?1\", \n",
    "    \"Upgrade-Insecure-Requests\": \"1\", \n",
    "    \"User-Agent\": \"Mozilla/5.0 (Windows NT 10.0; Win64; x64) AppleWebKit/537.36 (KHTML, like Gecko) Chrome/100.0.4896.88 Safari/537.36\", \n",
    "    \"X-Amzn-Trace-Id\": \"Root=1-6255bdb0-2ab6159e31e3fc34328ce867\"}\n",
    "\n",
    "page = requests.get(URL, headers=headers)\n",
    "\n",
    "soup1 = BeautifulSoup(page.content, \"html.parser\")\n",
    "\n",
    "soup2 = BeautifulSoup(soup1.prettify(),'html.parser')\n",
    "\n",
    "province_table = soup2.find('table', class_ ='provinces_table')\n",
    "\n",
    "prov = []\n",
    "pr   = []\n",
    "for province in province_table.find_all('tbody'):\n",
    "    rows = province.find_all('tr')\n",
    "    for row in rows:\n",
    "        name = row.find('td', class_ = 'caa_gas_city').text.strip()\n",
    "        price = row.find('td', class_ = 'caa_gas_price price-down').text.strip()\n",
    "        prov.append(name)\n",
    "        pr.append(price[:-2])\n"
   ]
  },
  {
   "cell_type": "markdown",
   "metadata": {},
   "source": [
    "### Getting today's date"
   ]
  },
  {
   "cell_type": "code",
   "execution_count": 27,
   "metadata": {},
   "outputs": [
    {
     "name": "stdout",
     "output_type": "stream",
     "text": [
      "2022-04-12\n"
     ]
    }
   ],
   "source": [
    "today = datetime.date.today()\n",
    "\n",
    "print(today)"
   ]
  },
  {
   "cell_type": "markdown",
   "metadata": {},
   "source": [
    "### Writing the obtained data into a csv"
   ]
  },
  {
   "cell_type": "code",
   "execution_count": 33,
   "metadata": {},
   "outputs": [],
   "source": [
    "import csv\n",
    "\n",
    "header = [\"Province\",\"Price/L\",\"Date\"]\n",
    "data = []\n",
    "\n",
    "#This should be run only once, rerunning will delete all data stored in the csv.\n",
    "with open('GasPrices.csv', 'w', newline='', encoding='UTF8') as f:\n",
    "    writer = csv.writer(f)\n",
    "    writer.writerow(header)\n",
    "    for i in range(len(prov)):\n",
    "        data = [prov[i],pr[i],today]\n",
    "        writer.writerow(data)\n",
    "        \n"
   ]
  },
  {
   "cell_type": "markdown",
   "metadata": {},
   "source": [
    "### Function which will send a mail when the price reaches a given value"
   ]
  },
  {
   "cell_type": "code",
   "execution_count": null,
   "metadata": {},
   "outputs": [],
   "source": [
    "def send_mail():\n",
    "    server = smtplib.SMTP('smtp.gmail.com',587)\n",
    "    sender = \"xxxyyyzzz@gmail.com\"\n",
    "    receiver = \"aaabbbccc@gmail.com\"\n",
    "    password = 'xxxxxxxxxxx'\n",
    "    Message = \"Heyy!, Gas Prices are over 1.75 CAD in your province\"\n",
    "    \n",
    "    server.starttls()\n",
    "    server.login(sender,password)\n",
    "    server.sendmail(sender,receiver,Message)"
   ]
  },
  {
   "cell_type": "markdown",
   "metadata": {},
   "source": [
    "### Function for appending values into the csv"
   ]
  },
  {
   "cell_type": "code",
   "execution_count": 30,
   "metadata": {},
   "outputs": [],
   "source": [
    "def check_price():\n",
    "    URL = \"https://www.caa.ca/gas-prices/\"\n",
    "\n",
    "    headers = {\n",
    "        \"Accept\": \"text/html,application/xhtml+xml,application/xml;q=0.9,image/avif,image/webp,image/apng,*/*;q=0.8,application/signed-exchange;v=b3;q=0.9\", \n",
    "        \"Accept-Encoding\": \"gzip, deflate, br\", \n",
    "        \"Accept-Language\": \"en-GB,en-US;q=0.9,en;q=0.8,ta;q=0.7\", \n",
    "        \"Host\": \"httpbin.org\", \n",
    "        \"Referer\": \"https://www.youtube.com/\", \n",
    "        \"Sec-Ch-Ua\": \"\\\" Not A;Brand\\\";v=\\\"99\\\", \\\"Chromium\\\";v=\\\"100\\\", \\\"Google Chrome\\\";v=\\\"100\\\"\", \n",
    "        \"Sec-Ch-Ua-Mobile\": \"?0\", \n",
    "        \"Sec-Ch-Ua-Platform\": \"\\\"Windows\\\"\", \n",
    "        \"Sec-Fetch-Dest\": \"document\", \n",
    "        \"Sec-Fetch-Mode\": \"navigate\", \n",
    "        \"Sec-Fetch-Site\": \"cross-site\", \n",
    "        \"Sec-Fetch-User\": \"?1\", \n",
    "        \"Upgrade-Insecure-Requests\": \"1\", \n",
    "        \"User-Agent\": \"Mozilla/5.0 (Windows NT 10.0; Win64; x64) AppleWebKit/537.36 (KHTML, like Gecko) Chrome/100.0.4896.88 Safari/537.36\", \n",
    "        \"X-Amzn-Trace-Id\": \"Root=1-6255bdb0-2ab6159e31e3fc34328ce867\"}\n",
    "\n",
    "    page = requests.get(URL, headers=headers)\n",
    "\n",
    "    soup1 = BeautifulSoup(page.content, \"html.parser\")\n",
    "\n",
    "    soup2 = BeautifulSoup(soup1.prettify(),'html.parser')\n",
    "\n",
    "    province_table = soup2.find('table', class_ ='provinces_table')\n",
    "    \n",
    "    today = datetime.date.today()\n",
    "\n",
    "    prov = []\n",
    "    pr   = []\n",
    "    for province in province_table.find_all('tbody'):\n",
    "        rows = province.find_all('tr')\n",
    "        for row in rows:\n",
    "            name = row.find('td', class_ = 'caa_gas_city').text.strip()\n",
    "            price = row.find('td', class_ = 'caa_gas_price price-down').text.strip()\n",
    "            prov.append(name)\n",
    "            pr.append(price[:-2])\n",
    "            if name == 'Ontario' and int(price) > 175:\n",
    "                #send_mail() function given below, so \n",
    "                send_mail()\n",
    "    \n",
    "    import csv\n",
    "    \n",
    "\n",
    "    header = [\"Province\",\"Price/L\",\"Date\"]\n",
    "    data = []\n",
    "    \n",
    "    #Appending data into the csv\n",
    "    with open('GasPrices.csv', 'a+', newline='', encoding='UTF8') as f:\n",
    "        writer = csv.writer(f)\n",
    "        \n",
    "        for i in range(len(prov)):\n",
    "            data = [prov[i],pr[i],today]\n",
    "            writer.writerow(data)"
   ]
  },
  {
   "cell_type": "markdown",
   "metadata": {},
   "source": [
    "### The code is run once everyday to collect data"
   ]
  },
  {
   "cell_type": "code",
   "execution_count": null,
   "metadata": {},
   "outputs": [],
   "source": [
    "while(True):\n",
    "    check_price()\n",
    "    time.sleep(86400)"
   ]
  }
 ],
 "metadata": {
  "kernelspec": {
   "display_name": "Python 3",
   "language": "python",
   "name": "python3"
  },
  "language_info": {
   "codemirror_mode": {
    "name": "ipython",
    "version": 3
   },
   "file_extension": ".py",
   "mimetype": "text/x-python",
   "name": "python",
   "nbconvert_exporter": "python",
   "pygments_lexer": "ipython3",
   "version": "3.8.5"
  }
 },
 "nbformat": 4,
 "nbformat_minor": 4
}
